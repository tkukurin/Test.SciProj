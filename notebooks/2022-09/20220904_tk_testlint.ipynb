{
 "cells": [
  {
   "cell_type": "code",
   "execution_count": 1,
   "id": "f5117865-2840-4dea-9eeb-81ccecc7cac4",
   "metadata": {},
   "outputs": [],
   "source": [
    "import dataclasses as dcls\n",
    "from pathlib import Path\n",
    "\n",
    "name = \"test\""
   ]
  },
  {
   "cell_type": "code",
   "execution_count": 2,
   "id": "80e44536-b920-496a-a4f3-534af72517d9",
   "metadata": {},
   "outputs": [],
   "source": [
    "def my_test_method():\n",
    "    return 42"
   ]
  },
  {
   "cell_type": "code",
   "execution_count": 3,
   "id": "0e8c6feb-80b1-4710-b49b-491b889f144e",
   "metadata": {},
   "outputs": [
    {
     "name": "stdout",
     "output_type": "stream",
     "text": [
      "42\n"
     ]
    }
   ],
   "source": [
    "print(my_test_method())"
   ]
  },
  {
   "cell_type": "code",
   "execution_count": null,
   "id": "681cbad6-9255-4ac1-bb90-ab7fe4648d33",
   "metadata": {},
   "outputs": [],
   "source": []
  }
 ],
 "metadata": {
  "kernelspec": {
   "display_name": "Python [conda env:rl]",
   "language": "python",
   "name": "conda-env-rl-py"
  },
  "language_info": {
   "codemirror_mode": {
    "name": "ipython",
    "version": 3
   },
   "file_extension": ".py",
   "mimetype": "text/x-python",
   "name": "python",
   "nbconvert_exporter": "python",
   "pygments_lexer": "ipython3",
   "version": "3.9.12"
  }
 },
 "nbformat": 4,
 "nbformat_minor": 5
}
